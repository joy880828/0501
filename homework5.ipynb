{
 "cells": [
  {
   "cell_type": "code",
   "execution_count": 5,
   "metadata": {},
   "outputs": [
    {
     "name": "stdout",
     "output_type": "stream",
     "text": [
      "輸入 + or - or * or /-\n",
      "輸入兩個數，以空白隔開5 3\n",
      "2\n"
     ]
    }
   ],
   "source": [
    "def add(a,b):\n",
    "    a,b = int(a),int(b)\n",
    "    return a+b\n",
    "\n",
    "def minus(a,b):\n",
    "    a,b = int(a),int(b)\n",
    "    return a-b\n",
    "\n",
    "def multiply(n):\n",
    "    a,b = int(a),int(b)\n",
    "    return a*b\n",
    "\n",
    "def divide(a,b):\n",
    "    a,b = int(a),int(b)\n",
    "    if b == 0:\n",
    "        print(\"ZeroDivisionError \")\n",
    "        return\n",
    "    return a/b\n",
    "\n",
    "x = input(\"輸入 + or - or * or /\")\n",
    "in_ = input(\"輸入兩個數，以空白隔開\")\n",
    "num = in_.split(' ')\n",
    "if x == '+':\n",
    "    print(add(num[0],num[1]))\n",
    "elif x == '-':\n",
    "    print(minus(num[0],num[1]))\n",
    "elif x == '*':\n",
    "    print(multiply(in_))    \n",
    "elif x == '/':\n",
    "    print(divide(num[0],num[1]))\n",
    "else:\n",
    "    print('error')"
   ]
  },
  {
   "cell_type": "code",
   "execution_count": null,
   "metadata": {
    "collapsed": true
   },
   "outputs": [],
   "source": []
  },
  {
   "cell_type": "code",
   "execution_count": null,
   "metadata": {
    "collapsed": true
   },
   "outputs": [],
   "source": []
  }
 ],
 "metadata": {
  "kernelspec": {
   "display_name": "Python 3",
   "language": "python",
   "name": "python3"
  },
  "language_info": {
   "codemirror_mode": {
    "name": "ipython",
    "version": 3
   },
   "file_extension": ".py",
   "mimetype": "text/x-python",
   "name": "python",
   "nbconvert_exporter": "python",
   "pygments_lexer": "ipython3",
   "version": "3.6.1"
  }
 },
 "nbformat": 4,
 "nbformat_minor": 2
}
